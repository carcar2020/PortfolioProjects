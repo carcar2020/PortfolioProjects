{
 "cells": [
  {
   "cell_type": "markdown",
   "id": "89556253",
   "metadata": {},
   "source": [
    "## Documentation\n",
    "\n",
    "**Purpose:** This notebook visualizes and analyzes Rent from India."
   ]
  },
  {
   "cell_type": "markdown",
   "id": "f73a785d",
   "metadata": {},
   "source": [
    "This notebook focuses on data regarding Rent prices based on Quantitative and Categorical data.Factors such as Rent price, Tenant Preferred count, Area Type, Furnishing Status and Size helped analyzed how Rent might be affected by this factors.\n",
    "\n",
    "Sources:\n",
    "https://www.kaggle.com/datasets/iamsouravbanerjee/house-rent-prediction-dataset"
   ]
  },
  {
   "cell_type": "code",
   "execution_count": 20,
   "id": "86f3c0bc",
   "metadata": {},
   "outputs": [],
   "source": [
    "%matplotlib inline\n",
    "import numpy as np\n",
    "import pandas as pd\n",
    "import matplotlib.pyplot as plt"
   ]
  },
  {
   "cell_type": "code",
   "execution_count": 21,
   "id": "65176f3c",
   "metadata": {},
   "outputs": [
    {
     "data": {
      "text/html": [
       "<div>\n",
       "<style scoped>\n",
       "    .dataframe tbody tr th:only-of-type {\n",
       "        vertical-align: middle;\n",
       "    }\n",
       "\n",
       "    .dataframe tbody tr th {\n",
       "        vertical-align: top;\n",
       "    }\n",
       "\n",
       "    .dataframe thead th {\n",
       "        text-align: right;\n",
       "    }\n",
       "</style>\n",
       "<table border=\"1\" class=\"dataframe\">\n",
       "  <thead>\n",
       "    <tr style=\"text-align: right;\">\n",
       "      <th></th>\n",
       "      <th>Posted On</th>\n",
       "      <th>BHK</th>\n",
       "      <th>Rent</th>\n",
       "      <th>Size</th>\n",
       "      <th>Floor</th>\n",
       "      <th>Area Type</th>\n",
       "      <th>Area Locality</th>\n",
       "      <th>City</th>\n",
       "      <th>Furnishing Status</th>\n",
       "      <th>Tenant Preferred</th>\n",
       "      <th>Bathroom</th>\n",
       "      <th>Point of Contact</th>\n",
       "    </tr>\n",
       "  </thead>\n",
       "  <tbody>\n",
       "    <tr>\n",
       "      <th>0</th>\n",
       "      <td>2022-05-18</td>\n",
       "      <td>2</td>\n",
       "      <td>10000</td>\n",
       "      <td>1100</td>\n",
       "      <td>Ground out of 2</td>\n",
       "      <td>Super Area</td>\n",
       "      <td>Bandel</td>\n",
       "      <td>Kolkata</td>\n",
       "      <td>Unfurnished</td>\n",
       "      <td>Bachelors/Family</td>\n",
       "      <td>2</td>\n",
       "      <td>Contact Owner</td>\n",
       "    </tr>\n",
       "    <tr>\n",
       "      <th>1</th>\n",
       "      <td>2022-05-13</td>\n",
       "      <td>2</td>\n",
       "      <td>20000</td>\n",
       "      <td>800</td>\n",
       "      <td>1 out of 3</td>\n",
       "      <td>Super Area</td>\n",
       "      <td>Phool Bagan, Kankurgachi</td>\n",
       "      <td>Kolkata</td>\n",
       "      <td>Semi-Furnished</td>\n",
       "      <td>Bachelors/Family</td>\n",
       "      <td>1</td>\n",
       "      <td>Contact Owner</td>\n",
       "    </tr>\n",
       "    <tr>\n",
       "      <th>2</th>\n",
       "      <td>2022-05-16</td>\n",
       "      <td>2</td>\n",
       "      <td>17000</td>\n",
       "      <td>1000</td>\n",
       "      <td>1 out of 3</td>\n",
       "      <td>Super Area</td>\n",
       "      <td>Salt Lake City Sector 2</td>\n",
       "      <td>Kolkata</td>\n",
       "      <td>Semi-Furnished</td>\n",
       "      <td>Bachelors/Family</td>\n",
       "      <td>1</td>\n",
       "      <td>Contact Owner</td>\n",
       "    </tr>\n",
       "    <tr>\n",
       "      <th>3</th>\n",
       "      <td>2022-07-04</td>\n",
       "      <td>2</td>\n",
       "      <td>10000</td>\n",
       "      <td>800</td>\n",
       "      <td>1 out of 2</td>\n",
       "      <td>Super Area</td>\n",
       "      <td>Dumdum Park</td>\n",
       "      <td>Kolkata</td>\n",
       "      <td>Unfurnished</td>\n",
       "      <td>Bachelors/Family</td>\n",
       "      <td>1</td>\n",
       "      <td>Contact Owner</td>\n",
       "    </tr>\n",
       "    <tr>\n",
       "      <th>4</th>\n",
       "      <td>2022-05-09</td>\n",
       "      <td>2</td>\n",
       "      <td>7500</td>\n",
       "      <td>850</td>\n",
       "      <td>1 out of 2</td>\n",
       "      <td>Carpet Area</td>\n",
       "      <td>South Dum Dum</td>\n",
       "      <td>Kolkata</td>\n",
       "      <td>Unfurnished</td>\n",
       "      <td>Bachelors</td>\n",
       "      <td>1</td>\n",
       "      <td>Contact Owner</td>\n",
       "    </tr>\n",
       "  </tbody>\n",
       "</table>\n",
       "</div>"
      ],
      "text/plain": [
       "    Posted On  BHK   Rent  Size            Floor    Area Type  \\\n",
       "0  2022-05-18    2  10000  1100  Ground out of 2   Super Area   \n",
       "1  2022-05-13    2  20000   800       1 out of 3   Super Area   \n",
       "2  2022-05-16    2  17000  1000       1 out of 3   Super Area   \n",
       "3  2022-07-04    2  10000   800       1 out of 2   Super Area   \n",
       "4  2022-05-09    2   7500   850       1 out of 2  Carpet Area   \n",
       "\n",
       "              Area Locality     City Furnishing Status  Tenant Preferred  \\\n",
       "0                    Bandel  Kolkata       Unfurnished  Bachelors/Family   \n",
       "1  Phool Bagan, Kankurgachi  Kolkata    Semi-Furnished  Bachelors/Family   \n",
       "2   Salt Lake City Sector 2  Kolkata    Semi-Furnished  Bachelors/Family   \n",
       "3               Dumdum Park  Kolkata       Unfurnished  Bachelors/Family   \n",
       "4             South Dum Dum  Kolkata       Unfurnished         Bachelors   \n",
       "\n",
       "   Bathroom Point of Contact  \n",
       "0         2    Contact Owner  \n",
       "1         1    Contact Owner  \n",
       "2         1    Contact Owner  \n",
       "3         1    Contact Owner  \n",
       "4         1    Contact Owner  "
      ]
     },
     "execution_count": 21,
     "metadata": {},
     "output_type": "execute_result"
    }
   ],
   "source": [
    "# Taking a loot at the data we have to work with.\n",
    "df = pd.read_csv('Rent.csv')\n",
    "df.head()"
   ]
  },
  {
   "cell_type": "code",
   "execution_count": 22,
   "id": "842498af",
   "metadata": {},
   "outputs": [],
   "source": [
    "# Rupees to USD Conversion \n",
    "# Rounded to two decimal places\n",
    "df['Rent'] = df['Rent']/61.06\n",
    "df['Rent'] = df['Rent'].round(2)"
   ]
  },
  {
   "cell_type": "code",
   "execution_count": 23,
   "id": "0e04aaa6",
   "metadata": {},
   "outputs": [
    {
     "data": {
      "text/html": [
       "<div>\n",
       "<style scoped>\n",
       "    .dataframe tbody tr th:only-of-type {\n",
       "        vertical-align: middle;\n",
       "    }\n",
       "\n",
       "    .dataframe tbody tr th {\n",
       "        vertical-align: top;\n",
       "    }\n",
       "\n",
       "    .dataframe thead th {\n",
       "        text-align: right;\n",
       "    }\n",
       "</style>\n",
       "<table border=\"1\" class=\"dataframe\">\n",
       "  <thead>\n",
       "    <tr style=\"text-align: right;\">\n",
       "      <th></th>\n",
       "      <th>Posted On</th>\n",
       "      <th>BHK</th>\n",
       "      <th>Rent</th>\n",
       "      <th>Size</th>\n",
       "      <th>Floor</th>\n",
       "      <th>Area Type</th>\n",
       "      <th>Area Locality</th>\n",
       "      <th>City</th>\n",
       "      <th>Furnishing Status</th>\n",
       "      <th>Tenant Preferred</th>\n",
       "      <th>Bathroom</th>\n",
       "      <th>Point of Contact</th>\n",
       "    </tr>\n",
       "  </thead>\n",
       "  <tbody>\n",
       "    <tr>\n",
       "      <th>0</th>\n",
       "      <td>2022-05-18</td>\n",
       "      <td>2</td>\n",
       "      <td>163.77</td>\n",
       "      <td>1100</td>\n",
       "      <td>Ground out of 2</td>\n",
       "      <td>Super Area</td>\n",
       "      <td>Bandel</td>\n",
       "      <td>Kolkata</td>\n",
       "      <td>Unfurnished</td>\n",
       "      <td>Bachelors/Family</td>\n",
       "      <td>2</td>\n",
       "      <td>Contact Owner</td>\n",
       "    </tr>\n",
       "    <tr>\n",
       "      <th>1</th>\n",
       "      <td>2022-05-13</td>\n",
       "      <td>2</td>\n",
       "      <td>327.55</td>\n",
       "      <td>800</td>\n",
       "      <td>1 out of 3</td>\n",
       "      <td>Super Area</td>\n",
       "      <td>Phool Bagan, Kankurgachi</td>\n",
       "      <td>Kolkata</td>\n",
       "      <td>Semi-Furnished</td>\n",
       "      <td>Bachelors/Family</td>\n",
       "      <td>1</td>\n",
       "      <td>Contact Owner</td>\n",
       "    </tr>\n",
       "    <tr>\n",
       "      <th>2</th>\n",
       "      <td>2022-05-16</td>\n",
       "      <td>2</td>\n",
       "      <td>278.41</td>\n",
       "      <td>1000</td>\n",
       "      <td>1 out of 3</td>\n",
       "      <td>Super Area</td>\n",
       "      <td>Salt Lake City Sector 2</td>\n",
       "      <td>Kolkata</td>\n",
       "      <td>Semi-Furnished</td>\n",
       "      <td>Bachelors/Family</td>\n",
       "      <td>1</td>\n",
       "      <td>Contact Owner</td>\n",
       "    </tr>\n",
       "    <tr>\n",
       "      <th>3</th>\n",
       "      <td>2022-07-04</td>\n",
       "      <td>2</td>\n",
       "      <td>163.77</td>\n",
       "      <td>800</td>\n",
       "      <td>1 out of 2</td>\n",
       "      <td>Super Area</td>\n",
       "      <td>Dumdum Park</td>\n",
       "      <td>Kolkata</td>\n",
       "      <td>Unfurnished</td>\n",
       "      <td>Bachelors/Family</td>\n",
       "      <td>1</td>\n",
       "      <td>Contact Owner</td>\n",
       "    </tr>\n",
       "    <tr>\n",
       "      <th>4</th>\n",
       "      <td>2022-05-09</td>\n",
       "      <td>2</td>\n",
       "      <td>122.83</td>\n",
       "      <td>850</td>\n",
       "      <td>1 out of 2</td>\n",
       "      <td>Carpet Area</td>\n",
       "      <td>South Dum Dum</td>\n",
       "      <td>Kolkata</td>\n",
       "      <td>Unfurnished</td>\n",
       "      <td>Bachelors</td>\n",
       "      <td>1</td>\n",
       "      <td>Contact Owner</td>\n",
       "    </tr>\n",
       "  </tbody>\n",
       "</table>\n",
       "</div>"
      ],
      "text/plain": [
       "    Posted On  BHK    Rent  Size            Floor    Area Type  \\\n",
       "0  2022-05-18    2  163.77  1100  Ground out of 2   Super Area   \n",
       "1  2022-05-13    2  327.55   800       1 out of 3   Super Area   \n",
       "2  2022-05-16    2  278.41  1000       1 out of 3   Super Area   \n",
       "3  2022-07-04    2  163.77   800       1 out of 2   Super Area   \n",
       "4  2022-05-09    2  122.83   850       1 out of 2  Carpet Area   \n",
       "\n",
       "              Area Locality     City Furnishing Status  Tenant Preferred  \\\n",
       "0                    Bandel  Kolkata       Unfurnished  Bachelors/Family   \n",
       "1  Phool Bagan, Kankurgachi  Kolkata    Semi-Furnished  Bachelors/Family   \n",
       "2   Salt Lake City Sector 2  Kolkata    Semi-Furnished  Bachelors/Family   \n",
       "3               Dumdum Park  Kolkata       Unfurnished  Bachelors/Family   \n",
       "4             South Dum Dum  Kolkata       Unfurnished         Bachelors   \n",
       "\n",
       "   Bathroom Point of Contact  \n",
       "0         2    Contact Owner  \n",
       "1         1    Contact Owner  \n",
       "2         1    Contact Owner  \n",
       "3         1    Contact Owner  \n",
       "4         1    Contact Owner  "
      ]
     },
     "execution_count": 23,
     "metadata": {},
     "output_type": "execute_result"
    }
   ],
   "source": [
    "# Verifying Rupees to USD conversion is accurate\n",
    "df.head()"
   ]
  },
  {
   "cell_type": "code",
   "execution_count": 24,
   "id": "60000ff7",
   "metadata": {},
   "outputs": [
    {
     "name": "stdout",
     "output_type": "stream",
     "text": [
      " The lowest Rent is: 19.65 and the highest rent is 57320.67\n"
     ]
    }
   ],
   "source": [
    "# Analyzing the Highest Rent and Lowest Rent in this data set.\n",
    "print(\" The lowest Rent is:\",df['Rent'].min(), \"and the highest rent is\",df['Rent'].max() )"
   ]
  },
  {
   "cell_type": "code",
   "execution_count": 25,
   "id": "03e54330",
   "metadata": {},
   "outputs": [],
   "source": [
    "# Getting the average Rent for all Area Types.\n",
    "s1 = df[df['Area Type'] == 'Super Area']['Rent'].mean()\n",
    "s2 = df[df['Area Type'] == 'Carpet Area']['Rent'].mean()\n",
    "s3 =df[df['Area Type'] == 'Built Area']['Rent'].mean()"
   ]
  },
  {
   "cell_type": "code",
   "execution_count": 26,
   "id": "a2d3026d",
   "metadata": {},
   "outputs": [],
   "source": [
    "# Created a Dictionary with the Average Rent for each Area Type\n",
    "dic = {'Super Area':s1, 'Carpet Area':s2, 'Built Area':s3}"
   ]
  },
  {
   "cell_type": "code",
   "execution_count": 27,
   "id": "d3459a7a",
   "metadata": {},
   "outputs": [
    {
     "data": {
      "text/plain": [
       "Text(0.5, 0, 'Area Types')"
      ]
     },
     "execution_count": 27,
     "metadata": {},
     "output_type": "execute_result"
    },
    {
     "data": {
      "image/png": "[encoded data removed]",
      "text/plain": [
       "<Figure size 432x288 with 1 Axes>"
      ]
     },
     "metadata": {
      "needs_background": "light"
     },
     "output_type": "display_data"
    }
   ],
   "source": [
    "# Barchart of average rent for each area type.\n",
    "plt.bar(dic.keys(), dic.values(), color= ('grey', 'black', 'blue'), edgecolor = 'red' )\n",
    "plt.title(\"Average Area Rent by Type\")\n",
    "plt.ylabel(\"Average Rent Usd\")\n",
    "plt.xlabel(\"Area Types\")"
   ]
  },
  {
   "cell_type": "markdown",
   "id": "cbc83288",
   "metadata": {},
   "source": [
    "## Area Type ##\n",
    "**Average Rent :**\n",
    "The above barchart was organized based on Area Type and the average rent by area was graphed. We can see that Carpet Area had the highest Average Rent, while Built Area had the lowest Average Rent out of the three Area Types."
   ]
  },
  {
   "cell_type": "code",
   "execution_count": 28,
   "id": "53ab805c",
   "metadata": {},
   "outputs": [
    {
     "data": {
      "text/plain": [
       "array(['Unfurnished', 'Semi-Furnished', 'Furnished'], dtype=object)"
      ]
     },
     "execution_count": 28,
     "metadata": {},
     "output_type": "execute_result"
    }
   ],
   "source": [
    "# Types of Furnished Status\n",
    "df['Furnishing Status'].unique()"
   ]
  },
  {
   "cell_type": "code",
   "execution_count": 29,
   "id": "612e80a3",
   "metadata": {},
   "outputs": [],
   "source": [
    "# The Average rent of Furnished Status\n",
    "x1 = df[df['Furnishing Status'] == 'Unfurnished']['Rent'].mean()\n",
    "x2 = df[df['Furnishing Status'] == 'Semi-Furnished']['Rent'].mean()\n",
    "x3 = df[df['Furnishing Status'] == 'Furnished']['Rent'].mean()\n",
    "    "
   ]
  },
  {
   "cell_type": "code",
   "execution_count": 30,
   "id": "6a6e8d0e",
   "metadata": {},
   "outputs": [],
   "source": [
    "# Dictionary with average Rent of different Furnished Status\n",
    "sd = {'Unfurnished':x1, 'Semi-Furnished': x2, 'Furnished':x3}"
   ]
  },
  {
   "cell_type": "code",
   "execution_count": 31,
   "id": "e14dc361",
   "metadata": {},
   "outputs": [
    {
     "data": {
      "text/plain": [
       "Text(0.5, 0, 'Furnished Status')"
      ]
     },
     "execution_count": 31,
     "metadata": {},
     "output_type": "execute_result"
    },
    {
     "data": {
      "image/png": "[encoded data removed]",
      "text/plain": [
       "<Figure size 432x288 with 1 Axes>"
      ]
     },
     "metadata": {
      "needs_background": "light"
     },
     "output_type": "display_data"
    }
   ],
   "source": [
    "# barchart for furnished status types.\n",
    "plt.bar(sd.keys(), sd.values())\n",
    "plt.title(\" Average Rent By Furnished Status\")\n",
    "plt.ylabel(\"Average Rent Usd\")\n",
    "plt.xlabel(\"Furnished Status\")"
   ]
  },
  {
   "cell_type": "markdown",
   "id": "58ac4246",
   "metadata": {},
   "source": [
    "## Furnished Status ##\n",
    "**Average Rent :**\n",
    "The above barchart shows the average rent for each type of furnished status. To get a better understanding \n",
    "of Rent prices, we decided to get the average rent price for all three types of furnihsed status and discovered that furnished apartments/rooms/houses had a higher average rent and unfurnished apartments/rooms/houses had the lowest average rent."
   ]
  },
  {
   "cell_type": "code",
   "execution_count": 32,
   "id": "1bb9b1e5",
   "metadata": {},
   "outputs": [
    {
     "data": {
      "text/plain": [
       "array(['Bachelors/Family', 'Bachelors', 'Family'], dtype=object)"
      ]
     },
     "execution_count": 32,
     "metadata": {},
     "output_type": "execute_result"
    }
   ],
   "source": [
    "# Getting all types of Tenants preferred\n",
    "df['Tenant Preferred'].unique()"
   ]
  },
  {
   "cell_type": "code",
   "execution_count": 33,
   "id": "05ed85b1",
   "metadata": {},
   "outputs": [
    {
     "name": "stdout",
     "output_type": "stream",
     "text": [
      "Bachelors/Family    3444\n",
      "Bachelors            830\n",
      "Family               472\n",
      "Name: Tenant Preferred, dtype: int64\n"
     ]
    }
   ],
   "source": [
    "# Getting the Preferred Tenant count for all three \n",
    "# types of Tenants preferred.\n",
    "y = df['Tenant Preferred'].value_counts()\n",
    "print(y)"
   ]
  },
  {
   "cell_type": "code",
   "execution_count": 34,
   "id": "44c43359",
   "metadata": {},
   "outputs": [
    {
     "data": {
      "text/plain": [
       "<matplotlib.legend.Legend at 0x21822ef0460>"
      ]
     },
     "execution_count": 34,
     "metadata": {},
     "output_type": "execute_result"
    },
    {
     "data": {
      "image/png": "[encoded data removed]",
      "text/plain": [
       "<Figure size 504x504 with 1 Axes>"
      ]
     },
     "metadata": {},
     "output_type": "display_data"
    }
   ],
   "source": [
    "# Tenant Preferred Piechart.\n",
    "df['Tenant Preferred'].value_counts().plot(kind='pie', y='Tenant Preferred', figsize=(7,7))\n",
    "plt.legend()"
   ]
  },
  {
   "cell_type": "markdown",
   "id": "24dacad0",
   "metadata": {},
   "source": [
    "## Tenant Preferred ##\n",
    "**Count Comparison:**\n",
    "The above piechart shows the preferred tenants(Bachelors/Family, Bachelors and Family) for the data provided.\n",
    "When looking at the piechart we can tell that the preferred tenants are Bachelors/Family and the least preferred tenants are \n",
    "Family tenants."
   ]
  },
  {
   "cell_type": "code",
   "execution_count": 35,
   "id": "cdfa8b12",
   "metadata": {},
   "outputs": [
    {
     "data": {
      "text/plain": [
       "array(['Kolkata', 'Mumbai', 'Bangalore', 'Delhi', 'Chennai', 'Hyderabad'],\n",
       "      dtype=object)"
      ]
     },
     "execution_count": 35,
     "metadata": {},
     "output_type": "execute_result"
    }
   ],
   "source": [
    "# All cities in this dataset.\n",
    "df['City'].unique()"
   ]
  },
  {
   "cell_type": "code",
   "execution_count": 36,
   "id": "8c03c8cb",
   "metadata": {},
   "outputs": [
    {
     "data": {
      "text/plain": [
       "Mumbai       972\n",
       "Chennai      891\n",
       "Bangalore    886\n",
       "Hyderabad    868\n",
       "Delhi        605\n",
       "Kolkata      524\n",
       "Name: City, dtype: int64"
      ]
     },
     "execution_count": 36,
     "metadata": {},
     "output_type": "execute_result"
    }
   ],
   "source": [
    "# Total listings for each city.\n",
    "df['City'].value_counts()"
   ]
  },
  {
   "cell_type": "code",
   "execution_count": 37,
   "id": "e78a6cbb",
   "metadata": {},
   "outputs": [
    {
     "data": {
      "text/plain": [
       "Text(0, 0.5, 'Rent Usd')"
      ]
     },
     "execution_count": 37,
     "metadata": {},
     "output_type": "execute_result"
    },
    {
     "data": {
      "image/png": "[encoded data removed]",
      "text/plain": [
       "<Figure size 432x288 with 1 Axes>"
      ]
     },
     "metadata": {
      "needs_background": "light"
     },
     "output_type": "display_data"
    }
   ],
   "source": [
    "# Scatter plot for Size and Rent.\n",
    "plt.scatter(df['Size'], df['Rent'], alpha= 0.5)\n",
    "m, b = np.polyfit(df['Size'], df['Rent'], 1)\n",
    "plt.plot(df['Size'], m*df['Size']+b, color = 'black')\n",
    "plt.title(\"\")\n",
    "plt.xlabel(\"Size(Sq)\")\n",
    "plt.ylabel(\"Rent Usd\")"
   ]
  },
  {
   "cell_type": "markdown",
   "id": "ec25b88e",
   "metadata": {},
   "source": [
    "## Rent and Size(Sq) ##\n",
    "**Rent and Size Correlation:** \n",
    "To understand the correlation between the size of the (house/apartment/room) and the rent, above we plotted a scatter plot with \n",
    "all the listings up for rent with there rent price and size(Sq). By looking at the scatter plot above we can tell there is a strong positive correlation between the rent and size(sq), particularly when the size(sq) is between 1000(sq) to 3000(sq) is when the correlation is postively strong."
   ]
  },
  {
   "cell_type": "markdown",
   "id": "cbc214c5",
   "metadata": {},
   "source": [
    "## Conclusion ##\n",
    "This notebook shows that depending on area type and furnished status the average rent is much higher.\n",
    "houses/apartments/rooms that are furnished have an average rent that is 2x higher then unfurnished houses/apartments/rooms.\n",
    "Also, the area type with the highest average rent is the Carpet Area which is 2x higher then the other two areas. We can \n",
    "conclude that renting in the carpet area with it being furnished is more expensive then any other area in this dataset."
   ]
  }
 ],
 "metadata": {
  "kernelspec": {
   "display_name": "Python 3 (ipykernel)",
   "language": "python",
   "name": "python3"
  },
  "language_info": {
   "codemirror_mode": {
    "name": "ipython",
    "version": 3
   },
   "file_extension": ".py",
   "mimetype": "text/x-python",
   "name": "python",
   "nbconvert_exporter": "python",
   "pygments_lexer": "ipython3",
   "version": "3.9.7"
  }
 },
 "nbformat": 4,
 "nbformat_minor": 5
}
